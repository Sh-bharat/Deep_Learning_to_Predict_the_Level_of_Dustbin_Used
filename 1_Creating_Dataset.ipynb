{
 "cells": [
  {
   "cell_type": "code",
   "execution_count": 5,
   "id": "dbc4afb0-c705-4764-8f38-1131f065d251",
   "metadata": {},
   "outputs": [],
   "source": [
    "## Importing Libraries\n",
    "import cv2 \n",
    "import matplotlib.pyplot as plt\n",
    "import os \n",
    "import shutil\n",
    "import re\n",
    "from tqdm import tqdm"
   ]
  },
  {
   "cell_type": "code",
   "execution_count": 6,
   "id": "54f936f3-cf4a-4456-be4e-9166894abaaa",
   "metadata": {},
   "outputs": [],
   "source": [
    "## Defining Functions\n",
    "def sorted_alphanumeric(data):  \n",
    "    convert = lambda text: int(text) if text.isdigit() else text.lower()\n",
    "    alphanum_key = lambda key: [convert(c) for c in re.split('([0-9]+)',key)]\n",
    "    return sorted(data,key = alphanum_key)"
   ]
  },
  {
   "cell_type": "code",
   "execution_count": 8,
   "id": "122d7c50-38aa-40ab-8a1d-1aceeae3c288",
   "metadata": {},
   "outputs": [
    {
     "name": "stderr",
     "output_type": "stream",
     "text": [
      "Processing: 100%|█████████████████████████████████████████████████████████████████| 1104/1104 [00:01<00:00, 591.59it/s]\n"
     ]
    }
   ],
   "source": [
    "Dataset_Dir=os.path.join(os.getcwd(),'Dataset')\n",
    "start=0\n",
    "\n",
    "## Renaming All the Files\n",
    "for file in tqdm(os.listdir(Dataset_Dir),\"Processing\"):\n",
    "    file_extension=file.split('.')[1]  \n",
    "    if file_extension==\"png\":\n",
    "        old_name=os.path.join(Dataset_Dir,file)\n",
    "        new_name=os.path.join(Dataset_Dir,str(start)+'.'+file_extension)\n",
    "        os.rename(old_name,new_name)\n",
    "        start=start+1"
   ]
  },
  {
   "cell_type": "code",
   "execution_count": 9,
   "id": "142c4664-0d30-4c93-9236-d3e44d0545a9",
   "metadata": {},
   "outputs": [
    {
     "name": "stderr",
     "output_type": "stream",
     "text": [
      "Checking: 100%|███████████████████████████████████████████████████████████████| 1104/1104 [00:00<00:00, 1088763.61it/s]\n"
     ]
    }
   ],
   "source": [
    "for file in tqdm(os.listdir(Dataset_Dir),\"Checking\"):\n",
    "    file_extension=file.split('.')[1]    \n",
    "    if(file_extension=='png'):\n",
    "        continue\n",
    "    else:\n",
    "        os.remove(os.path.join(Dataset_Dir,file))\n",
    "        print(f'Removing File : {file}')"
   ]
  },
  {
   "cell_type": "code",
   "execution_count": 10,
   "id": "2a2c3cb6-9e5a-41d8-b61e-9ec78937a226",
   "metadata": {},
   "outputs": [
    {
     "name": "stdout",
     "output_type": "stream",
     "text": [
      "There are total of 1104 Files in Dataset. \n",
      "Splitting in 80:20 i.e, 883:221\n"
     ]
    }
   ],
   "source": [
    "print(f'There are total of {len(os.listdir(Dataset_Dir))} Files in Dataset. \\nSplitting in 80:20 i.e, {int(0.8*len(os.listdir(Dataset_Dir)))}:{len(os.listdir(Dataset_Dir))-int(0.8*len(os.listdir(Dataset_Dir)))}')"
   ]
  },
  {
   "cell_type": "code",
   "execution_count": 13,
   "id": "3f6383a7-32e5-43a6-8eee-0f66edfcbfda",
   "metadata": {},
   "outputs": [
    {
     "name": "stdout",
     "output_type": "stream",
     "text": [
      "Train Directory Created\n",
      "Test Directory Created\n"
     ]
    }
   ],
   "source": [
    "files =  sorted_alphanumeric(os.listdir(Dataset_Dir))\n",
    "Train_Dir = os.path.join(Dataset_Dir,\"Train\")\n",
    "Test_Dir = os.path.join(Dataset_Dir,\"Test\")\n",
    "\n",
    "if(os.path.exists(Train_Dir)):\n",
    "    print(f'Train Directory Found')\n",
    "else:\n",
    "    os.mkdir(Train_Dir)\n",
    "    print(f'Train Directory Created')\n",
    "\n",
    "if(os.path.exists(Test_Dir)):\n",
    "    print(f'Test Directory Found')\n",
    "else:\n",
    "    os.mkdir(Test_Dir)\n",
    "    print(f'Test Directory Created')\n"
   ]
  },
  {
   "cell_type": "code",
   "execution_count": 14,
   "id": "0215cc4f-fa0d-41f9-aeb7-c87b1a7edb5b",
   "metadata": {},
   "outputs": [
    {
     "name": "stderr",
     "output_type": "stream",
     "text": [
      "Copying Training Data: 100%|█████████████████████████████████████████████████████████| 884/884 [00:10<00:00, 84.62it/s]\n",
      "Copying Testing Data: 100%|██████████████████████████████████████████████████████████| 220/220 [00:03<00:00, 71.05it/s]\n"
     ]
    }
   ],
   "source": [
    "Train_files=files[0:int(0.8*len(os.listdir(Dataset_Dir)))]\n",
    "Test_files=files[int(0.8*len(os.listdir(Dataset_Dir))):len(files)]\n",
    "for file in tqdm(Train_files,\"Copying Training Data\"):\n",
    "    input_file=os.path.join(Dataset_Dir,file)\n",
    "    output_file=os.path.join(Train_Dir,file)\n",
    "    shutil.copyfile(input_file,output_file)\n",
    "    os.remove(input_file)\n",
    "\n",
    "for file in tqdm(Test_files,\"Copying Testing Data\"):\n",
    "    input_file=os.path.join(Dataset_Dir,file)\n",
    "    output_file=os.path.join(Test_Dir,file)\n",
    "    shutil.copyfile(input_file,output_file)\n",
    "    os.remove(input_file)\n",
    "    \n",
    "    "
   ]
  },
  {
   "cell_type": "code",
   "execution_count": null,
   "id": "b994d08d-55a6-4c81-99c1-119e9072e3c9",
   "metadata": {},
   "outputs": [],
   "source": []
  }
 ],
 "metadata": {
  "kernelspec": {
   "display_name": "Python 3 (ipykernel)",
   "language": "python",
   "name": "python3"
  },
  "language_info": {
   "codemirror_mode": {
    "name": "ipython",
    "version": 3
   },
   "file_extension": ".py",
   "mimetype": "text/x-python",
   "name": "python",
   "nbconvert_exporter": "python",
   "pygments_lexer": "ipython3",
   "version": "3.12.4"
  }
 },
 "nbformat": 4,
 "nbformat_minor": 5
}
