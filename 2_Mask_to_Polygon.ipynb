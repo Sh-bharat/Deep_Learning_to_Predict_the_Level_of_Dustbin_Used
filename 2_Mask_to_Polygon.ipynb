{
 "cells": [
  {
   "cell_type": "code",
   "execution_count": 5,
   "id": "9e6e0db0-bf9a-4ecc-a296-6a3f35f6d2ec",
   "metadata": {},
   "outputs": [],
   "source": [
    "## Importing Libraries\n",
    "import os\n",
    "import cv2\n",
    "from tqdm import tqdm"
   ]
  },
  {
   "cell_type": "code",
   "execution_count": 6,
   "id": "5ad12105-3d81-445e-a897-8a171e237527",
   "metadata": {},
   "outputs": [],
   "source": [
    "input_dir = os.path.join(os.getcwd(),'Mask')\n",
    "output_dir = os.path.join(os.getcwd(),'labels')"
   ]
  },
  {
   "cell_type": "code",
   "execution_count": 7,
   "id": "8875175c-7a90-46cb-b3a3-b74e893c6f8e",
   "metadata": {},
   "outputs": [
    {
     "name": "stdout",
     "output_type": "stream",
     "text": [
      "Input Directory Found\n",
      "Output Directory Found\n"
     ]
    }
   ],
   "source": [
    "## For Check/Create Output Directory\n",
    "\n",
    "if(os.path.exists(input_dir)):\n",
    "    print(f'Input Directory Found')\n",
    "else:\n",
    "    os.mkdir(input_dir)\n",
    "    print(f'Input Directory Created')\n",
    "\n",
    "if(os.path.exists(output_dir)):\n",
    "    print(f'Output Directory Found')\n",
    "else:\n",
    "    os.mkdir(output_dir)\n",
    "    print(f'Output Directory Created')"
   ]
  },
  {
   "cell_type": "code",
   "execution_count": 8,
   "id": "dc07b1b0-1c51-4b23-8336-4054cc435f5a",
   "metadata": {},
   "outputs": [
    {
     "name": "stderr",
     "output_type": "stream",
     "text": [
      "Processing: 100%|████████████████████████████████████████████████████████████████████| 159/159 [00:03<00:00, 51.14it/s]\n"
     ]
    }
   ],
   "source": [
    "\n",
    "for j in tqdm(os.listdir(input_dir),\"Processing\"):\n",
    "    image_path = os.path.join(input_dir, j)\n",
    "    # load the binary mask and get its contours\n",
    "    mask = cv2.imread(image_path, cv2.IMREAD_GRAYSCALE)\n",
    "    _, mask = cv2.threshold(mask, 1, 255, cv2.THRESH_BINARY)\n",
    "\n",
    "    H, W = mask.shape\n",
    "    contours, hierarchy = cv2.findContours(mask, cv2.RETR_EXTERNAL, cv2.CHAIN_APPROX_SIMPLE)\n",
    "\n",
    "    # convert the contours to polygons\n",
    "    polygons = []\n",
    "    for cnt in contours:\n",
    "        if cv2.contourArea(cnt) > 200:\n",
    "            polygon = []\n",
    "            for point in cnt:\n",
    "                x, y = point[0]\n",
    "                polygon.append(x / W)\n",
    "                polygon.append(y / H)\n",
    "            polygons.append(polygon)\n",
    "\n",
    "    # print the polygons\n",
    "    with open('{}.txt'.format(os.path.join(output_dir, j)[:-4]), 'w') as f:\n",
    "        for polygon in polygons:\n",
    "            for p_, p in enumerate(polygon):\n",
    "                if p_ == len(polygon) - 1:\n",
    "                    f.write('{}\\n'.format(p))\n",
    "                elif p_ == 0:\n",
    "                    f.write('0 {} '.format(p))\n",
    "                else:\n",
    "                    f.write('{} '.format(p))\n",
    "\n",
    "        f.close()"
   ]
  },
  {
   "cell_type": "code",
   "execution_count": null,
   "id": "33230f26-48ca-4475-bf48-8ac61bf7e16a",
   "metadata": {},
   "outputs": [],
   "source": []
  }
 ],
 "metadata": {
  "kernelspec": {
   "display_name": "Python 3 (ipykernel)",
   "language": "python",
   "name": "python3"
  },
  "language_info": {
   "codemirror_mode": {
    "name": "ipython",
    "version": 3
   },
   "file_extension": ".py",
   "mimetype": "text/x-python",
   "name": "python",
   "nbconvert_exporter": "python",
   "pygments_lexer": "ipython3",
   "version": "3.12.4"
  }
 },
 "nbformat": 4,
 "nbformat_minor": 5
}
