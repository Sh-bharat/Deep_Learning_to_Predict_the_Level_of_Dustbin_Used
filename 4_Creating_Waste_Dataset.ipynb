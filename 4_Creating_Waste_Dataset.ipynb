{
 "cells": [
  {
   "cell_type": "code",
   "execution_count": 1,
   "id": "35cab061-b63d-4928-ae1f-cf292f08edeb",
   "metadata": {},
   "outputs": [],
   "source": [
    "## Importing Libraries\n",
    "import cv2 \n",
    "import matplotlib.pyplot as plt\n",
    "import os \n",
    "import shutil\n",
    "import re\n",
    "from tqdm import tqdm"
   ]
  },
  {
   "cell_type": "code",
   "execution_count": 9,
   "id": "ade60e9c-d606-4310-8ec5-ed1513a40d21",
   "metadata": {},
   "outputs": [],
   "source": [
    "## Defining Functions\n",
    "def sorted_alphanumeric(data):  \n",
    "    convert = lambda text: int(text) if text.isdigit() else text.lower()\n",
    "    alphanum_key = lambda key: [convert(c) for c in re.split('([0-9]+)',key)]\n",
    "    return sorted(data,key = alphanum_key)\n",
    "\n",
    "def find_uncommon_items(list1, list2):\n",
    "    set1 = set(list1)\n",
    "    set2 = set(list2)\n",
    "    uncommon_items = set1.symmetric_difference(set2)\n",
    "    return list(uncommon_items)\n",
    "\n"
   ]
  },
  {
   "cell_type": "code",
   "execution_count": 15,
   "id": "6a1f45a3-71ba-40a1-94b9-858e1ec9dab9",
   "metadata": {},
   "outputs": [
    {
     "name": "stdout",
     "output_type": "stream",
     "text": [
      "There are total of 778 Files in Dataset. \n",
      "Splitting in 80:20 i.e, 622:156\n"
     ]
    }
   ],
   "source": [
    "## Splitting images and labels\n",
    "Dataset_Dir=os.path.join(os.getcwd(),'images')\n",
    "images_dir=Dataset_Dir\n",
    "print(f'There are total of {len(os.listdir(Dataset_Dir))} Files in Dataset. \\nSplitting in 80:20 i.e, {int(0.8*len(os.listdir(Dataset_Dir)))}:{len(os.listdir(Dataset_Dir))-int(0.8*len(os.listdir(Dataset_Dir)))}')\n",
    "Dataset_Dir=os.path.join(os.getcwd(),'Dataset')"
   ]
  },
  {
   "cell_type": "code",
   "execution_count": 16,
   "id": "e996a0bf-d60f-4444-95e1-228ef0311640",
   "metadata": {},
   "outputs": [],
   "source": [
    "images_path=os.path.join(os.getcwd(),\"images\",)\n",
    "labels_path=os.path.join(os.getcwd(),\"labels\")"
   ]
  },
  {
   "cell_type": "code",
   "execution_count": 21,
   "id": "ccb1f3b5-757a-40ec-aae4-a688a875cd10",
   "metadata": {},
   "outputs": [
    {
     "name": "stdout",
     "output_type": "stream",
     "text": [
      "Directory Created\n",
      "Train Directory Created\n",
      "Test Directory Created\n"
     ]
    }
   ],
   "source": [
    "files =  sorted_alphanumeric(os.listdir(labels_path))\n",
    "Dataset_Dir=os.path.join(os.getcwd(),\"Dataset\",\"labels\")\n",
    "if(os.path.exists(Dataset_Dir)):\n",
    "    print(f'Directory Found')\n",
    "else:\n",
    "    os.mkdir(Dataset_Dir)\n",
    "    print(f'Directory Created')\n",
    "\n",
    "Train_Dir = os.path.join(Dataset_Dir,\"train\")\n",
    "Test_Dir = os.path.join(Dataset_Dir,\"val\")\n",
    "\n",
    "if(os.path.exists(Train_Dir)):\n",
    "    print(f'Train Directory Found')\n",
    "else:\n",
    "    os.mkdir(Train_Dir)\n",
    "    print(f'Train Directory Created')\n",
    "\n",
    "if(os.path.exists(Test_Dir)):\n",
    "    print(f'Test Directory Found')\n",
    "else:\n",
    "    os.mkdir(Test_Dir)\n",
    "    print(f'Test Directory Created')\n"
   ]
  },
  {
   "cell_type": "code",
   "execution_count": 22,
   "id": "2377c63e-bc18-4a56-9265-2bc0bcf97370",
   "metadata": {},
   "outputs": [
    {
     "name": "stderr",
     "output_type": "stream",
     "text": [
      "Copying Training Data: 100%|█████████████████████████████████████████████████████████| 596/596 [00:07<00:00, 75.16it/s]\n",
      "Copying Testing Data: 100%|██████████████████████████████████████████████████████████| 149/149 [00:01<00:00, 84.55it/s]\n"
     ]
    }
   ],
   "source": [
    "choosen_dir=labels_path\n",
    "Train_files=files[0:int(0.8*len(os.listdir(choosen_dir)))]\n",
    "Test_files=files[int(0.8*len(os.listdir(choosen_dir))):len(files)]\n",
    "for file in tqdm(Train_files,\"Copying Training Data\"):\n",
    "    input_file=os.path.join(choosen_dir,file)\n",
    "    output_file=os.path.join(Train_Dir,file)\n",
    "    shutil.copyfile(input_file,output_file)\n",
    "    os.remove(input_file)\n",
    "\n",
    "for file in tqdm(Test_files,\"Copying Testing Data\"):\n",
    "    input_file=os.path.join(choosen_dir,file)\n",
    "    output_file=os.path.join(Test_Dir,file)\n",
    "    shutil.copyfile(input_file,output_file)\n",
    "    os.remove(input_file)\n",
    "    \n",
    "    "
   ]
  },
  {
   "cell_type": "code",
   "execution_count": null,
   "id": "f7dd7ea3-db7d-4081-b654-d4ff95a65483",
   "metadata": {},
   "outputs": [],
   "source": [
    "images_path=os.path.join(os.getcwd(),\"Dataset\",\"images\",\"train\")\n",
    "labels_path=os.path.join(os.getcwd(),\"Dataset\",\"labels\",\"train\")"
   ]
  },
  {
   "cell_type": "code",
   "execution_count": null,
   "id": "8e4d4376-2fda-4e64-867c-795c3c2caeac",
   "metadata": {},
   "outputs": [],
   "source": [
    "images=[]\n",
    "labels=[]\n",
    "for file in os.listdir(labels_path):\n",
    "    labels.append(file.split('.')[0])\n",
    "for file in os.listdir(images_path):\n",
    "    images.append(file.split('.')[0])"
   ]
  },
  {
   "cell_type": "code",
   "execution_count": null,
   "id": "6adf6ebe-a0bb-48a3-b708-1e08a41f7c16",
   "metadata": {},
   "outputs": [],
   "source": [
    "uncommon = find_uncommon_items(images, labels)\n",
    "print(uncommon)  # Output: [1, 2, 6, 7]"
   ]
  },
  {
   "cell_type": "code",
   "execution_count": null,
   "id": "3d55d2c1-b2ff-4d8d-96ef-d7105b2a322b",
   "metadata": {},
   "outputs": [],
   "source": [
    "for file_name in tqdm(uncommon,\"Processing\"):\n",
    "    try:\n",
    "        input_file=os.path.join(images_path,file_name+\".png\")\n",
    "        output_file=os.path.join(os.getcwd(),\"Test_Segmentation\",file_name+\".png\")\n",
    "        shutil.copyfile(input_file,output_file)\n",
    "        os.remove(input_file)\n",
    "    except:\n",
    "        continue\n",
    "    "
   ]
  }
 ],
 "metadata": {
  "kernelspec": {
   "display_name": "Python 3 (ipykernel)",
   "language": "python",
   "name": "python3"
  },
  "language_info": {
   "codemirror_mode": {
    "name": "ipython",
    "version": 3
   },
   "file_extension": ".py",
   "mimetype": "text/x-python",
   "name": "python",
   "nbconvert_exporter": "python",
   "pygments_lexer": "ipython3",
   "version": "3.12.4"
  }
 },
 "nbformat": 4,
 "nbformat_minor": 5
}
